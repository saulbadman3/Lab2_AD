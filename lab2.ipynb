{
 "cells": [
  {
   "cell_type": "markdown",
   "metadata": {},
   "source": [
    "Lab2"
   ]
  },
  {
   "cell_type": "code",
   "execution_count": 16,
   "metadata": {},
   "outputs": [],
   "source": [
    "import pandas as pd\n",
    "import urllib.request\n",
    "import datetime"
   ]
  },
  {
   "cell_type": "markdown",
   "metadata": {},
   "source": [
    "Loading data and writing it to corresponding files"
   ]
  },
  {
   "cell_type": "code",
   "execution_count": 17,
   "metadata": {},
   "outputs": [
    {
     "name": "stdout",
     "output_type": "stream",
     "text": [
      "Files with data created\n"
     ]
    }
   ],
   "source": [
    "def get_url(i: int) -> str:\n",
    "    return f'https://www.star.nesdis.noaa.gov/smcd/emb/vci/VH/get_TS_admin.php?country=UKR&provinceID={i}&year1=1981&year2=2024&type=Mean'\n",
    "\n",
    "def file_create(i: int, data: bytes) -> None:\n",
    "    date_time = datetime.datetime.now().strftime(\"%d%m%Y%H%M%S\")\n",
    "    out = open(f'vhi_id_{i}_{date_time}.csv', \"wb\")\n",
    "    out.write(data)\n",
    "\n",
    "for i in range(1, 28):\n",
    "    url = get_url(i)\n",
    "    data = urllib.request.urlopen(url).read()\n",
    "    file_create(i, data)\n",
    "print(\"Files with data created\")\n"
   ]
  }
 ],
 "metadata": {
  "kernelspec": {
   "display_name": "venv",
   "language": "python",
   "name": "python3"
  },
  "language_info": {
   "codemirror_mode": {
    "name": "ipython",
    "version": 3
   },
   "file_extension": ".py",
   "mimetype": "text/x-python",
   "name": "python",
   "nbconvert_exporter": "python",
   "pygments_lexer": "ipython3",
   "version": "3.12.2"
  }
 },
 "nbformat": 4,
 "nbformat_minor": 2
}
